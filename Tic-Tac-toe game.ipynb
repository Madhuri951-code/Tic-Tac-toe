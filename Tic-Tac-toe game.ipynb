{
 "cells": [
  {
   "cell_type": "code",
   "execution_count": 1,
   "id": "6a8c3507-c9e3-4872-9305-0f4250511bea",
   "metadata": {},
   "outputs": [
    {
     "name": "stdout",
     "output_type": "stream",
     "text": [
      "Welcome to Tic-Tac-Toe!\n",
      "Player X goes first.\n",
      "\n",
      "   |   |  \n",
      "---|---|---\n",
      "   |   |  \n",
      "---|---|---\n",
      "   |   |  \n",
      "\n"
     ]
    },
    {
     "name": "stdin",
     "output_type": "stream",
     "text": [
      "Player X, enter your move (1-9):  2\n"
     ]
    },
    {
     "name": "stdout",
     "output_type": "stream",
     "text": [
      "\n",
      "   | X |  \n",
      "---|---|---\n",
      "   |   |  \n",
      "---|---|---\n",
      "   |   |  \n",
      "\n"
     ]
    },
    {
     "name": "stdin",
     "output_type": "stream",
     "text": [
      "Player O, enter your move (1-9):  1\n"
     ]
    },
    {
     "name": "stdout",
     "output_type": "stream",
     "text": [
      "\n",
      " O | X |  \n",
      "---|---|---\n",
      "   |   |  \n",
      "---|---|---\n",
      "   |   |  \n",
      "\n"
     ]
    },
    {
     "name": "stdin",
     "output_type": "stream",
     "text": [
      "Player X, enter your move (1-9):  2\n"
     ]
    },
    {
     "name": "stdout",
     "output_type": "stream",
     "text": [
      "Invalid move. Try again.\n"
     ]
    },
    {
     "name": "stdin",
     "output_type": "stream",
     "text": [
      "Player X, enter your move (1-9):  3\n"
     ]
    },
    {
     "name": "stdout",
     "output_type": "stream",
     "text": [
      "\n",
      " O | X | X\n",
      "---|---|---\n",
      "   |   |  \n",
      "---|---|---\n",
      "   |   |  \n",
      "\n"
     ]
    },
    {
     "name": "stdin",
     "output_type": "stream",
     "text": [
      "Player O, enter your move (1-9):  7\n"
     ]
    },
    {
     "name": "stdout",
     "output_type": "stream",
     "text": [
      "\n",
      " O | X | X\n",
      "---|---|---\n",
      "   |   |  \n",
      "---|---|---\n",
      " O |   |  \n",
      "\n"
     ]
    },
    {
     "name": "stdin",
     "output_type": "stream",
     "text": [
      "Player X, enter your move (1-9):  5\n"
     ]
    },
    {
     "name": "stdout",
     "output_type": "stream",
     "text": [
      "\n",
      " O | X | X\n",
      "---|---|---\n",
      "   | X |  \n",
      "---|---|---\n",
      " O |   |  \n",
      "\n"
     ]
    },
    {
     "name": "stdin",
     "output_type": "stream",
     "text": [
      "Player O, enter your move (1-9):  4\n"
     ]
    },
    {
     "name": "stdout",
     "output_type": "stream",
     "text": [
      "\n",
      " O | X | X\n",
      "---|---|---\n",
      " O | X |  \n",
      "---|---|---\n",
      " O |   |  \n",
      "\n",
      "🎉 Player O wins!\n"
     ]
    }
   ],
   "source": [
    "board = [' ' for _ in range(9)]\n",
    "def print_board():\n",
    "    print()\n",
    "    for i in range(3):\n",
    "        print(\" \" + board[i*3] + \" | \" + board[i*3+1] + \" | \" + board[i*3+2])\n",
    "        if i < 2:\n",
    "            print(\"---|---|---\")\n",
    "    print()\n",
    "def check_winner(player):\n",
    "    win_conditions = [\n",
    "        [0, 1, 2], [3, 4, 5], [6, 7, 8],  # rows\n",
    "        [0, 3, 6], [1, 4, 7], [2, 5, 8],  # columns\n",
    "        [0, 4, 8], [2, 4, 6]              # diagonals\n",
    "    ]\n",
    "    for condition in win_conditions:\n",
    "        if board[condition[0]] == board[condition[1]] == board[condition[2]] == player:\n",
    "            return True\n",
    "    return False\n",
    "def is_draw():\n",
    "    return ' ' not in board\n",
    "def play_game():\n",
    "    current_player = 'X'\n",
    "    print(\"Welcome to Tic-Tac-Toe!\")\n",
    "    print(\"Player X goes first.\")\n",
    "    print_board()\n",
    "    while True:\n",
    "        try:\n",
    "            move = int(input(f\"Player {current_player}, enter your move (1-9): \")) - 1\n",
    "            if move < 0 or move > 8 or board[move] != ' ':\n",
    "                print(\"Invalid move. Try again.\")\n",
    "                continue\n",
    "        except ValueError:\n",
    "            print(\"Please enter a valid number.\")\n",
    "            continue\n",
    "        board[move] = current_player\n",
    "        print_board()\n",
    "\n",
    "        if check_winner(current_player):\n",
    "            print(f\"🎉 Player {current_player} wins!\")\n",
    "            break\n",
    "        elif is_draw():\n",
    "            print(\"It's a draw!\")\n",
    "            break\n",
    "\n",
    "        # Switch player\n",
    "        current_player = 'O' if current_player == 'X' else 'X'\n",
    "if __name__ == \"__main__\":\n",
    "    play_game()\n"
   ]
  },
  {
   "cell_type": "code",
   "execution_count": null,
   "id": "79a25e35-71cb-46d0-83aa-3cd2989e9507",
   "metadata": {},
   "outputs": [],
   "source": []
  },
  {
   "cell_type": "code",
   "execution_count": null,
   "id": "8045c79f-cade-4cf8-acf7-cdbc35f27f21",
   "metadata": {},
   "outputs": [],
   "source": []
  }
 ],
 "metadata": {
  "kernelspec": {
   "display_name": "Python 3 (ipykernel)",
   "language": "python",
   "name": "python3"
  },
  "language_info": {
   "codemirror_mode": {
    "name": "ipython",
    "version": 3
   },
   "file_extension": ".py",
   "mimetype": "text/x-python",
   "name": "python",
   "nbconvert_exporter": "python",
   "pygments_lexer": "ipython3",
   "version": "3.12.4"
  }
 },
 "nbformat": 4,
 "nbformat_minor": 5
}
